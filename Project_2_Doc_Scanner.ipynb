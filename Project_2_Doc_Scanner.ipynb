{
 "cells": [
  {
   "cell_type": "code",
   "execution_count": 2,
   "metadata": {},
   "outputs": [],
   "source": [
    "import cv2\n",
    "import numpy as np\n",
    "\n",
    "widthImg, heightImg= 640, 480"
   ]
  },
  {
   "cell_type": "code",
   "execution_count": 3,
   "metadata": {},
   "outputs": [],
   "source": [
    "def preProcessing(img):\n",
    "    imgGray = cv2.cvtColor(img, cv2.COLOR_BGR2GRAY)\n",
    "    imgBlur = cv2.GaussianBlur(img, (5,5), 1)\n",
    "    imgCanny = cv2.Canny(imgBlur, 150, 120)\n",
    "    kernel= np.ones((5,5))\n",
    "    imgDial = cv2.dilate(imgCanny, kernel, iterations = 2)\n",
    "    imgThres = cv2.erode(imgDial, kernel, iterations = 1)\n",
    "    return imgThres"
   ]
  },
  {
   "cell_type": "code",
   "execution_count": 4,
   "metadata": {},
   "outputs": [],
   "source": [
    "def getContours(img):\n",
    "    maxApprox = np.array([])\n",
    "    maxArea = 0\n",
    "    contours, hierarchy = cv2.findContours(img, cv2.RETR_EXTERNAL, cv2.CHAIN_APPROX_NONE)\n",
    "    for cnt in contours:\n",
    "        area= cv2.contourArea(cnt)\n",
    "        if area > 5000:\n",
    "            peri = cv2.arcLength(cnt, True) # True means it is closed\n",
    "            approx = cv2.approxPolyDP(cnt, 0.02*peri, True )\n",
    "            if area > maxArea and len(approx) == 4 :\n",
    "                maxArea = area\n",
    "                maxApprox = approx\n",
    "    cv2.drawContours(imgContour, maxApprox, -1, (0,255,0), 20)  # -1 to show all contours\n",
    "    return maxApprox            "
   ]
  },
  {
   "cell_type": "code",
   "execution_count": 5,
   "metadata": {},
   "outputs": [],
   "source": [
    "def reorder(myPoints):\n",
    "    myPoints = myPoints.reshape((4,2))\n",
    "    add = myPoints.sum(1)\n",
    "    diff = np.diff(myPoints, axis = 1)\n",
    "    \n",
    "    myNewPoints= np.zeros((4,1,2))\n",
    "    myNewPoints[0] = myPoints[np.argmin(add)]\n",
    "    myNewPoints[3] = myPoints[np.argmax(add)]\n",
    "    myNewPoints[1] = myPoints[np.argmin(diff)]\n",
    "    myNewPoints[2] = myPoints[np.argmin(diff)]\n",
    "    return myNewPoints"
   ]
  },
  {
   "cell_type": "code",
   "execution_count": 8,
   "metadata": {},
   "outputs": [],
   "source": [
    "def getWarp(img, maxApprox):\n",
    "    maxApprox = reorder (maxApprox)\n",
    "    src_pts= np.float32(maxApprox)\n",
    "    des_pts= np.float32(([0,0], [widthImg,0], [0,heightImg], [widthImg,heightImg]))\n",
    "\n",
    "    matrix = cv2.getPerspectiveTransform(src_pts, des_pts) \n",
    "    imgOutput= cv2.warpPerspective(img, matrix, (widthImg,heightImg))\n",
    "    \n",
    "    imgCropped = imgOutput[20:imgOutput.shape[0]-20,20:imgOutput.shape[1]-20]\n",
    "    imgCropped = cv2.resize(imgCropped,(widthImg,heightImg))\n",
    "    \n",
    "    return imgCropped"
   ]
  },
  {
   "cell_type": "code",
   "execution_count": 11,
   "metadata": {},
   "outputs": [],
   "source": [
    "cap = cv2.VideoCapture(0)\n",
    "cap.set(3, 640)  # set length\n",
    "cap.set(4, 480)  # set width\n",
    "cap.set(10,10)  # set brightness\n",
    "\n",
    "\n",
    "while True:\n",
    "    succcess, img= cap.read()\n",
    "    img = cv2.resize(img, (widthImg, heightImg) )\n",
    "    imgContour = img.copy()\n",
    "    imgThres = preProcessing(img)\n",
    "    maxApprox = getContours(imgThres)\n",
    "    if maxApprox.size != 0:\n",
    "        imgWarped = getWarp(img, maxApprox)\n",
    "        cv2.imshow('Doc', imgWarped)\n",
    "    else:\n",
    "        cv2.imshow('Webcam', imgThres)\n",
    "\n",
    "    if cv2.waitKey(1) & 0xff== ord('q'):\n",
    "        break\n",
    "# When everything done, release the capture\n",
    "cap.release()\n",
    "cv2.destroyAllWindows()"
   ]
  },
  {
   "cell_type": "code",
   "execution_count": null,
   "metadata": {},
   "outputs": [],
   "source": []
  }
 ],
 "metadata": {
  "kernelspec": {
   "display_name": "Python 3",
   "language": "python",
   "name": "python3"
  },
  "language_info": {
   "codemirror_mode": {
    "name": "ipython",
    "version": 3
   },
   "file_extension": ".py",
   "mimetype": "text/x-python",
   "name": "python",
   "nbconvert_exporter": "python",
   "pygments_lexer": "ipython3",
   "version": "3.7.6"
  }
 },
 "nbformat": 4,
 "nbformat_minor": 4
}
